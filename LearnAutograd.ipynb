{
 "cells": [
  {
   "cell_type": "code",
   "execution_count": 1,
   "metadata": {
    "id": "OZ1mDBP76pmE"
   },
   "outputs": [],
   "source": [
    "import torch\n",
    "from torchvision.models import resnet18, ResNet18_Weights"
   ]
  },
  {
   "cell_type": "code",
   "execution_count": 2,
   "metadata": {
    "id": "fpAizkbC61NJ"
   },
   "outputs": [
    {
     "name": "stderr",
     "output_type": "stream",
     "text": [
      "Downloading: \"https://download.pytorch.org/models/resnet18-f37072fd.pth\" to /Users/mizuiro/.cache/torch/hub/checkpoints/resnet18-f37072fd.pth\n"
     ]
    },
    {
     "ename": "URLError",
     "evalue": "<urlopen error [SSL: CERTIFICATE_VERIFY_FAILED] certificate verify failed: unable to get local issuer certificate (_ssl.c:1000)>",
     "output_type": "error",
     "traceback": [
      "\u001b[0;31m---------------------------------------------------------------------------\u001b[0m",
      "\u001b[0;31mSSLCertVerificationError\u001b[0m                  Traceback (most recent call last)",
      "File \u001b[0;32m/Library/Frameworks/Python.framework/Versions/3.12/lib/python3.12/urllib/request.py:1344\u001b[0m, in \u001b[0;36mAbstractHTTPHandler.do_open\u001b[0;34m(self, http_class, req, **http_conn_args)\u001b[0m\n\u001b[1;32m   1343\u001b[0m \u001b[38;5;28;01mtry\u001b[39;00m:\n\u001b[0;32m-> 1344\u001b[0m     \u001b[43mh\u001b[49m\u001b[38;5;241;43m.\u001b[39;49m\u001b[43mrequest\u001b[49m\u001b[43m(\u001b[49m\u001b[43mreq\u001b[49m\u001b[38;5;241;43m.\u001b[39;49m\u001b[43mget_method\u001b[49m\u001b[43m(\u001b[49m\u001b[43m)\u001b[49m\u001b[43m,\u001b[49m\u001b[43m \u001b[49m\u001b[43mreq\u001b[49m\u001b[38;5;241;43m.\u001b[39;49m\u001b[43mselector\u001b[49m\u001b[43m,\u001b[49m\u001b[43m \u001b[49m\u001b[43mreq\u001b[49m\u001b[38;5;241;43m.\u001b[39;49m\u001b[43mdata\u001b[49m\u001b[43m,\u001b[49m\u001b[43m \u001b[49m\u001b[43mheaders\u001b[49m\u001b[43m,\u001b[49m\n\u001b[1;32m   1345\u001b[0m \u001b[43m              \u001b[49m\u001b[43mencode_chunked\u001b[49m\u001b[38;5;241;43m=\u001b[39;49m\u001b[43mreq\u001b[49m\u001b[38;5;241;43m.\u001b[39;49m\u001b[43mhas_header\u001b[49m\u001b[43m(\u001b[49m\u001b[38;5;124;43m'\u001b[39;49m\u001b[38;5;124;43mTransfer-encoding\u001b[39;49m\u001b[38;5;124;43m'\u001b[39;49m\u001b[43m)\u001b[49m\u001b[43m)\u001b[49m\n\u001b[1;32m   1346\u001b[0m \u001b[38;5;28;01mexcept\u001b[39;00m \u001b[38;5;167;01mOSError\u001b[39;00m \u001b[38;5;28;01mas\u001b[39;00m err: \u001b[38;5;66;03m# timeout error\u001b[39;00m\n",
      "File \u001b[0;32m/Library/Frameworks/Python.framework/Versions/3.12/lib/python3.12/http/client.py:1336\u001b[0m, in \u001b[0;36mHTTPConnection.request\u001b[0;34m(self, method, url, body, headers, encode_chunked)\u001b[0m\n\u001b[1;32m   1335\u001b[0m \u001b[38;5;250m\u001b[39m\u001b[38;5;124;03m\"\"\"Send a complete request to the server.\"\"\"\u001b[39;00m\n\u001b[0;32m-> 1336\u001b[0m \u001b[38;5;28;43mself\u001b[39;49m\u001b[38;5;241;43m.\u001b[39;49m\u001b[43m_send_request\u001b[49m\u001b[43m(\u001b[49m\u001b[43mmethod\u001b[49m\u001b[43m,\u001b[49m\u001b[43m \u001b[49m\u001b[43murl\u001b[49m\u001b[43m,\u001b[49m\u001b[43m \u001b[49m\u001b[43mbody\u001b[49m\u001b[43m,\u001b[49m\u001b[43m \u001b[49m\u001b[43mheaders\u001b[49m\u001b[43m,\u001b[49m\u001b[43m \u001b[49m\u001b[43mencode_chunked\u001b[49m\u001b[43m)\u001b[49m\n",
      "File \u001b[0;32m/Library/Frameworks/Python.framework/Versions/3.12/lib/python3.12/http/client.py:1382\u001b[0m, in \u001b[0;36mHTTPConnection._send_request\u001b[0;34m(self, method, url, body, headers, encode_chunked)\u001b[0m\n\u001b[1;32m   1381\u001b[0m     body \u001b[38;5;241m=\u001b[39m _encode(body, \u001b[38;5;124m'\u001b[39m\u001b[38;5;124mbody\u001b[39m\u001b[38;5;124m'\u001b[39m)\n\u001b[0;32m-> 1382\u001b[0m \u001b[38;5;28;43mself\u001b[39;49m\u001b[38;5;241;43m.\u001b[39;49m\u001b[43mendheaders\u001b[49m\u001b[43m(\u001b[49m\u001b[43mbody\u001b[49m\u001b[43m,\u001b[49m\u001b[43m \u001b[49m\u001b[43mencode_chunked\u001b[49m\u001b[38;5;241;43m=\u001b[39;49m\u001b[43mencode_chunked\u001b[49m\u001b[43m)\u001b[49m\n",
      "File \u001b[0;32m/Library/Frameworks/Python.framework/Versions/3.12/lib/python3.12/http/client.py:1331\u001b[0m, in \u001b[0;36mHTTPConnection.endheaders\u001b[0;34m(self, message_body, encode_chunked)\u001b[0m\n\u001b[1;32m   1330\u001b[0m     \u001b[38;5;28;01mraise\u001b[39;00m CannotSendHeader()\n\u001b[0;32m-> 1331\u001b[0m \u001b[38;5;28;43mself\u001b[39;49m\u001b[38;5;241;43m.\u001b[39;49m\u001b[43m_send_output\u001b[49m\u001b[43m(\u001b[49m\u001b[43mmessage_body\u001b[49m\u001b[43m,\u001b[49m\u001b[43m \u001b[49m\u001b[43mencode_chunked\u001b[49m\u001b[38;5;241;43m=\u001b[39;49m\u001b[43mencode_chunked\u001b[49m\u001b[43m)\u001b[49m\n",
      "File \u001b[0;32m/Library/Frameworks/Python.framework/Versions/3.12/lib/python3.12/http/client.py:1091\u001b[0m, in \u001b[0;36mHTTPConnection._send_output\u001b[0;34m(self, message_body, encode_chunked)\u001b[0m\n\u001b[1;32m   1090\u001b[0m \u001b[38;5;28;01mdel\u001b[39;00m \u001b[38;5;28mself\u001b[39m\u001b[38;5;241m.\u001b[39m_buffer[:]\n\u001b[0;32m-> 1091\u001b[0m \u001b[38;5;28;43mself\u001b[39;49m\u001b[38;5;241;43m.\u001b[39;49m\u001b[43msend\u001b[49m\u001b[43m(\u001b[49m\u001b[43mmsg\u001b[49m\u001b[43m)\u001b[49m\n\u001b[1;32m   1093\u001b[0m \u001b[38;5;28;01mif\u001b[39;00m message_body \u001b[38;5;129;01mis\u001b[39;00m \u001b[38;5;129;01mnot\u001b[39;00m \u001b[38;5;28;01mNone\u001b[39;00m:\n\u001b[1;32m   1094\u001b[0m \n\u001b[1;32m   1095\u001b[0m     \u001b[38;5;66;03m# create a consistent interface to message_body\u001b[39;00m\n",
      "File \u001b[0;32m/Library/Frameworks/Python.framework/Versions/3.12/lib/python3.12/http/client.py:1035\u001b[0m, in \u001b[0;36mHTTPConnection.send\u001b[0;34m(self, data)\u001b[0m\n\u001b[1;32m   1034\u001b[0m \u001b[38;5;28;01mif\u001b[39;00m \u001b[38;5;28mself\u001b[39m\u001b[38;5;241m.\u001b[39mauto_open:\n\u001b[0;32m-> 1035\u001b[0m     \u001b[38;5;28;43mself\u001b[39;49m\u001b[38;5;241;43m.\u001b[39;49m\u001b[43mconnect\u001b[49m\u001b[43m(\u001b[49m\u001b[43m)\u001b[49m\n\u001b[1;32m   1036\u001b[0m \u001b[38;5;28;01melse\u001b[39;00m:\n",
      "File \u001b[0;32m/Library/Frameworks/Python.framework/Versions/3.12/lib/python3.12/http/client.py:1477\u001b[0m, in \u001b[0;36mHTTPSConnection.connect\u001b[0;34m(self)\u001b[0m\n\u001b[1;32m   1475\u001b[0m     server_hostname \u001b[38;5;241m=\u001b[39m \u001b[38;5;28mself\u001b[39m\u001b[38;5;241m.\u001b[39mhost\n\u001b[0;32m-> 1477\u001b[0m \u001b[38;5;28mself\u001b[39m\u001b[38;5;241m.\u001b[39msock \u001b[38;5;241m=\u001b[39m \u001b[38;5;28;43mself\u001b[39;49m\u001b[38;5;241;43m.\u001b[39;49m\u001b[43m_context\u001b[49m\u001b[38;5;241;43m.\u001b[39;49m\u001b[43mwrap_socket\u001b[49m\u001b[43m(\u001b[49m\u001b[38;5;28;43mself\u001b[39;49m\u001b[38;5;241;43m.\u001b[39;49m\u001b[43msock\u001b[49m\u001b[43m,\u001b[49m\n\u001b[1;32m   1478\u001b[0m \u001b[43m                                      \u001b[49m\u001b[43mserver_hostname\u001b[49m\u001b[38;5;241;43m=\u001b[39;49m\u001b[43mserver_hostname\u001b[49m\u001b[43m)\u001b[49m\n",
      "File \u001b[0;32m/Library/Frameworks/Python.framework/Versions/3.12/lib/python3.12/ssl.py:455\u001b[0m, in \u001b[0;36mSSLContext.wrap_socket\u001b[0;34m(self, sock, server_side, do_handshake_on_connect, suppress_ragged_eofs, server_hostname, session)\u001b[0m\n\u001b[1;32m    449\u001b[0m \u001b[38;5;28;01mdef\u001b[39;00m\u001b[38;5;250m \u001b[39m\u001b[38;5;21mwrap_socket\u001b[39m(\u001b[38;5;28mself\u001b[39m, sock, server_side\u001b[38;5;241m=\u001b[39m\u001b[38;5;28;01mFalse\u001b[39;00m,\n\u001b[1;32m    450\u001b[0m                 do_handshake_on_connect\u001b[38;5;241m=\u001b[39m\u001b[38;5;28;01mTrue\u001b[39;00m,\n\u001b[1;32m    451\u001b[0m                 suppress_ragged_eofs\u001b[38;5;241m=\u001b[39m\u001b[38;5;28;01mTrue\u001b[39;00m,\n\u001b[1;32m    452\u001b[0m                 server_hostname\u001b[38;5;241m=\u001b[39m\u001b[38;5;28;01mNone\u001b[39;00m, session\u001b[38;5;241m=\u001b[39m\u001b[38;5;28;01mNone\u001b[39;00m):\n\u001b[1;32m    453\u001b[0m     \u001b[38;5;66;03m# SSLSocket class handles server_hostname encoding before it calls\u001b[39;00m\n\u001b[1;32m    454\u001b[0m     \u001b[38;5;66;03m# ctx._wrap_socket()\u001b[39;00m\n\u001b[0;32m--> 455\u001b[0m     \u001b[38;5;28;01mreturn\u001b[39;00m \u001b[38;5;28;43mself\u001b[39;49m\u001b[38;5;241;43m.\u001b[39;49m\u001b[43msslsocket_class\u001b[49m\u001b[38;5;241;43m.\u001b[39;49m\u001b[43m_create\u001b[49m\u001b[43m(\u001b[49m\n\u001b[1;32m    456\u001b[0m \u001b[43m        \u001b[49m\u001b[43msock\u001b[49m\u001b[38;5;241;43m=\u001b[39;49m\u001b[43msock\u001b[49m\u001b[43m,\u001b[49m\n\u001b[1;32m    457\u001b[0m \u001b[43m        \u001b[49m\u001b[43mserver_side\u001b[49m\u001b[38;5;241;43m=\u001b[39;49m\u001b[43mserver_side\u001b[49m\u001b[43m,\u001b[49m\n\u001b[1;32m    458\u001b[0m \u001b[43m        \u001b[49m\u001b[43mdo_handshake_on_connect\u001b[49m\u001b[38;5;241;43m=\u001b[39;49m\u001b[43mdo_handshake_on_connect\u001b[49m\u001b[43m,\u001b[49m\n\u001b[1;32m    459\u001b[0m \u001b[43m        \u001b[49m\u001b[43msuppress_ragged_eofs\u001b[49m\u001b[38;5;241;43m=\u001b[39;49m\u001b[43msuppress_ragged_eofs\u001b[49m\u001b[43m,\u001b[49m\n\u001b[1;32m    460\u001b[0m \u001b[43m        \u001b[49m\u001b[43mserver_hostname\u001b[49m\u001b[38;5;241;43m=\u001b[39;49m\u001b[43mserver_hostname\u001b[49m\u001b[43m,\u001b[49m\n\u001b[1;32m    461\u001b[0m \u001b[43m        \u001b[49m\u001b[43mcontext\u001b[49m\u001b[38;5;241;43m=\u001b[39;49m\u001b[38;5;28;43mself\u001b[39;49m\u001b[43m,\u001b[49m\n\u001b[1;32m    462\u001b[0m \u001b[43m        \u001b[49m\u001b[43msession\u001b[49m\u001b[38;5;241;43m=\u001b[39;49m\u001b[43msession\u001b[49m\n\u001b[1;32m    463\u001b[0m \u001b[43m    \u001b[49m\u001b[43m)\u001b[49m\n",
      "File \u001b[0;32m/Library/Frameworks/Python.framework/Versions/3.12/lib/python3.12/ssl.py:1042\u001b[0m, in \u001b[0;36mSSLSocket._create\u001b[0;34m(cls, sock, server_side, do_handshake_on_connect, suppress_ragged_eofs, server_hostname, context, session)\u001b[0m\n\u001b[1;32m   1041\u001b[0m                 \u001b[38;5;28;01mraise\u001b[39;00m \u001b[38;5;167;01mValueError\u001b[39;00m(\u001b[38;5;124m\"\u001b[39m\u001b[38;5;124mdo_handshake_on_connect should not be specified for non-blocking sockets\u001b[39m\u001b[38;5;124m\"\u001b[39m)\n\u001b[0;32m-> 1042\u001b[0m             \u001b[38;5;28;43mself\u001b[39;49m\u001b[38;5;241;43m.\u001b[39;49m\u001b[43mdo_handshake\u001b[49m\u001b[43m(\u001b[49m\u001b[43m)\u001b[49m\n\u001b[1;32m   1043\u001b[0m \u001b[38;5;28;01mexcept\u001b[39;00m:\n",
      "File \u001b[0;32m/Library/Frameworks/Python.framework/Versions/3.12/lib/python3.12/ssl.py:1320\u001b[0m, in \u001b[0;36mSSLSocket.do_handshake\u001b[0;34m(self, block)\u001b[0m\n\u001b[1;32m   1319\u001b[0m         \u001b[38;5;28mself\u001b[39m\u001b[38;5;241m.\u001b[39msettimeout(\u001b[38;5;28;01mNone\u001b[39;00m)\n\u001b[0;32m-> 1320\u001b[0m     \u001b[38;5;28;43mself\u001b[39;49m\u001b[38;5;241;43m.\u001b[39;49m\u001b[43m_sslobj\u001b[49m\u001b[38;5;241;43m.\u001b[39;49m\u001b[43mdo_handshake\u001b[49m\u001b[43m(\u001b[49m\u001b[43m)\u001b[49m\n\u001b[1;32m   1321\u001b[0m \u001b[38;5;28;01mfinally\u001b[39;00m:\n",
      "\u001b[0;31mSSLCertVerificationError\u001b[0m: [SSL: CERTIFICATE_VERIFY_FAILED] certificate verify failed: unable to get local issuer certificate (_ssl.c:1000)",
      "\nDuring handling of the above exception, another exception occurred:\n",
      "\u001b[0;31mURLError\u001b[0m                                  Traceback (most recent call last)",
      "Cell \u001b[0;32mIn[2], line 1\u001b[0m\n\u001b[0;32m----> 1\u001b[0m model \u001b[38;5;241m=\u001b[39m \u001b[43mresnet18\u001b[49m\u001b[43m(\u001b[49m\u001b[43mweights\u001b[49m\u001b[38;5;241;43m=\u001b[39;49m\u001b[43mResNet18_Weights\u001b[49m\u001b[38;5;241;43m.\u001b[39;49m\u001b[43mDEFAULT\u001b[49m\u001b[43m)\u001b[49m\n\u001b[1;32m      2\u001b[0m data \u001b[38;5;241m=\u001b[39m torch\u001b[38;5;241m.\u001b[39mrand(\u001b[38;5;241m1\u001b[39m, \u001b[38;5;241m3\u001b[39m, \u001b[38;5;241m64\u001b[39m, \u001b[38;5;241m64\u001b[39m)\n\u001b[1;32m      3\u001b[0m labels \u001b[38;5;241m=\u001b[39m torch\u001b[38;5;241m.\u001b[39mrand(\u001b[38;5;241m1\u001b[39m, \u001b[38;5;241m1000\u001b[39m)\n",
      "File \u001b[0;32m~/dev/py3_venv/ml/lib/python3.12/site-packages/torchvision/models/_utils.py:142\u001b[0m, in \u001b[0;36mkwonly_to_pos_or_kw.<locals>.wrapper\u001b[0;34m(*args, **kwargs)\u001b[0m\n\u001b[1;32m    135\u001b[0m     warnings\u001b[38;5;241m.\u001b[39mwarn(\n\u001b[1;32m    136\u001b[0m         \u001b[38;5;124mf\u001b[39m\u001b[38;5;124m\"\u001b[39m\u001b[38;5;124mUsing \u001b[39m\u001b[38;5;132;01m{\u001b[39;00msequence_to_str(\u001b[38;5;28mtuple\u001b[39m(keyword_only_kwargs\u001b[38;5;241m.\u001b[39mkeys()),\u001b[38;5;250m \u001b[39mseparate_last\u001b[38;5;241m=\u001b[39m\u001b[38;5;124m'\u001b[39m\u001b[38;5;124mand \u001b[39m\u001b[38;5;124m'\u001b[39m)\u001b[38;5;132;01m}\u001b[39;00m\u001b[38;5;124m as positional \u001b[39m\u001b[38;5;124m\"\u001b[39m\n\u001b[1;32m    137\u001b[0m         \u001b[38;5;124mf\u001b[39m\u001b[38;5;124m\"\u001b[39m\u001b[38;5;124mparameter(s) is deprecated since 0.13 and may be removed in the future. Please use keyword parameter(s) \u001b[39m\u001b[38;5;124m\"\u001b[39m\n\u001b[1;32m    138\u001b[0m         \u001b[38;5;124mf\u001b[39m\u001b[38;5;124m\"\u001b[39m\u001b[38;5;124minstead.\u001b[39m\u001b[38;5;124m\"\u001b[39m\n\u001b[1;32m    139\u001b[0m     )\n\u001b[1;32m    140\u001b[0m     kwargs\u001b[38;5;241m.\u001b[39mupdate(keyword_only_kwargs)\n\u001b[0;32m--> 142\u001b[0m \u001b[38;5;28;01mreturn\u001b[39;00m \u001b[43mfn\u001b[49m\u001b[43m(\u001b[49m\u001b[38;5;241;43m*\u001b[39;49m\u001b[43margs\u001b[49m\u001b[43m,\u001b[49m\u001b[43m \u001b[49m\u001b[38;5;241;43m*\u001b[39;49m\u001b[38;5;241;43m*\u001b[39;49m\u001b[43mkwargs\u001b[49m\u001b[43m)\u001b[49m\n",
      "File \u001b[0;32m~/dev/py3_venv/ml/lib/python3.12/site-packages/torchvision/models/_utils.py:228\u001b[0m, in \u001b[0;36mhandle_legacy_interface.<locals>.outer_wrapper.<locals>.inner_wrapper\u001b[0;34m(*args, **kwargs)\u001b[0m\n\u001b[1;32m    225\u001b[0m     \u001b[38;5;28;01mdel\u001b[39;00m kwargs[pretrained_param]\n\u001b[1;32m    226\u001b[0m     kwargs[weights_param] \u001b[38;5;241m=\u001b[39m default_weights_arg\n\u001b[0;32m--> 228\u001b[0m \u001b[38;5;28;01mreturn\u001b[39;00m \u001b[43mbuilder\u001b[49m\u001b[43m(\u001b[49m\u001b[38;5;241;43m*\u001b[39;49m\u001b[43margs\u001b[49m\u001b[43m,\u001b[49m\u001b[43m \u001b[49m\u001b[38;5;241;43m*\u001b[39;49m\u001b[38;5;241;43m*\u001b[39;49m\u001b[43mkwargs\u001b[49m\u001b[43m)\u001b[49m\n",
      "File \u001b[0;32m~/dev/py3_venv/ml/lib/python3.12/site-packages/torchvision/models/resnet.py:705\u001b[0m, in \u001b[0;36mresnet18\u001b[0;34m(weights, progress, **kwargs)\u001b[0m\n\u001b[1;32m    685\u001b[0m \u001b[38;5;250m\u001b[39m\u001b[38;5;124;03m\"\"\"ResNet-18 from `Deep Residual Learning for Image Recognition <https://arxiv.org/abs/1512.03385>`__.\u001b[39;00m\n\u001b[1;32m    686\u001b[0m \n\u001b[1;32m    687\u001b[0m \u001b[38;5;124;03mArgs:\u001b[39;00m\n\u001b[0;32m   (...)\u001b[0m\n\u001b[1;32m    701\u001b[0m \u001b[38;5;124;03m    :members:\u001b[39;00m\n\u001b[1;32m    702\u001b[0m \u001b[38;5;124;03m\"\"\"\u001b[39;00m\n\u001b[1;32m    703\u001b[0m weights \u001b[38;5;241m=\u001b[39m ResNet18_Weights\u001b[38;5;241m.\u001b[39mverify(weights)\n\u001b[0;32m--> 705\u001b[0m \u001b[38;5;28;01mreturn\u001b[39;00m \u001b[43m_resnet\u001b[49m\u001b[43m(\u001b[49m\u001b[43mBasicBlock\u001b[49m\u001b[43m,\u001b[49m\u001b[43m \u001b[49m\u001b[43m[\u001b[49m\u001b[38;5;241;43m2\u001b[39;49m\u001b[43m,\u001b[49m\u001b[43m \u001b[49m\u001b[38;5;241;43m2\u001b[39;49m\u001b[43m,\u001b[49m\u001b[43m \u001b[49m\u001b[38;5;241;43m2\u001b[39;49m\u001b[43m,\u001b[49m\u001b[43m \u001b[49m\u001b[38;5;241;43m2\u001b[39;49m\u001b[43m]\u001b[49m\u001b[43m,\u001b[49m\u001b[43m \u001b[49m\u001b[43mweights\u001b[49m\u001b[43m,\u001b[49m\u001b[43m \u001b[49m\u001b[43mprogress\u001b[49m\u001b[43m,\u001b[49m\u001b[43m \u001b[49m\u001b[38;5;241;43m*\u001b[39;49m\u001b[38;5;241;43m*\u001b[39;49m\u001b[43mkwargs\u001b[49m\u001b[43m)\u001b[49m\n",
      "File \u001b[0;32m~/dev/py3_venv/ml/lib/python3.12/site-packages/torchvision/models/resnet.py:301\u001b[0m, in \u001b[0;36m_resnet\u001b[0;34m(block, layers, weights, progress, **kwargs)\u001b[0m\n\u001b[1;32m    298\u001b[0m model \u001b[38;5;241m=\u001b[39m ResNet(block, layers, \u001b[38;5;241m*\u001b[39m\u001b[38;5;241m*\u001b[39mkwargs)\n\u001b[1;32m    300\u001b[0m \u001b[38;5;28;01mif\u001b[39;00m weights \u001b[38;5;129;01mis\u001b[39;00m \u001b[38;5;129;01mnot\u001b[39;00m \u001b[38;5;28;01mNone\u001b[39;00m:\n\u001b[0;32m--> 301\u001b[0m     model\u001b[38;5;241m.\u001b[39mload_state_dict(\u001b[43mweights\u001b[49m\u001b[38;5;241;43m.\u001b[39;49m\u001b[43mget_state_dict\u001b[49m\u001b[43m(\u001b[49m\u001b[43mprogress\u001b[49m\u001b[38;5;241;43m=\u001b[39;49m\u001b[43mprogress\u001b[49m\u001b[43m,\u001b[49m\u001b[43m \u001b[49m\u001b[43mcheck_hash\u001b[49m\u001b[38;5;241;43m=\u001b[39;49m\u001b[38;5;28;43;01mTrue\u001b[39;49;00m\u001b[43m)\u001b[49m)\n\u001b[1;32m    303\u001b[0m \u001b[38;5;28;01mreturn\u001b[39;00m model\n",
      "File \u001b[0;32m~/dev/py3_venv/ml/lib/python3.12/site-packages/torchvision/models/_api.py:90\u001b[0m, in \u001b[0;36mWeightsEnum.get_state_dict\u001b[0;34m(self, *args, **kwargs)\u001b[0m\n\u001b[1;32m     89\u001b[0m \u001b[38;5;28;01mdef\u001b[39;00m\u001b[38;5;250m \u001b[39m\u001b[38;5;21mget_state_dict\u001b[39m(\u001b[38;5;28mself\u001b[39m, \u001b[38;5;241m*\u001b[39margs: Any, \u001b[38;5;241m*\u001b[39m\u001b[38;5;241m*\u001b[39mkwargs: Any) \u001b[38;5;241m-\u001b[39m\u001b[38;5;241m>\u001b[39m Mapping[\u001b[38;5;28mstr\u001b[39m, Any]:\n\u001b[0;32m---> 90\u001b[0m     \u001b[38;5;28;01mreturn\u001b[39;00m \u001b[43mload_state_dict_from_url\u001b[49m\u001b[43m(\u001b[49m\u001b[38;5;28;43mself\u001b[39;49m\u001b[38;5;241;43m.\u001b[39;49m\u001b[43murl\u001b[49m\u001b[43m,\u001b[49m\u001b[43m \u001b[49m\u001b[38;5;241;43m*\u001b[39;49m\u001b[43margs\u001b[49m\u001b[43m,\u001b[49m\u001b[43m \u001b[49m\u001b[38;5;241;43m*\u001b[39;49m\u001b[38;5;241;43m*\u001b[39;49m\u001b[43mkwargs\u001b[49m\u001b[43m)\u001b[49m\n",
      "File \u001b[0;32m~/dev/py3_venv/ml/lib/python3.12/site-packages/torch/hub.py:867\u001b[0m, in \u001b[0;36mload_state_dict_from_url\u001b[0;34m(url, model_dir, map_location, progress, check_hash, file_name, weights_only)\u001b[0m\n\u001b[1;32m    865\u001b[0m         r \u001b[38;5;241m=\u001b[39m HASH_REGEX\u001b[38;5;241m.\u001b[39msearch(filename)  \u001b[38;5;66;03m# r is Optional[Match[str]]\u001b[39;00m\n\u001b[1;32m    866\u001b[0m         hash_prefix \u001b[38;5;241m=\u001b[39m r\u001b[38;5;241m.\u001b[39mgroup(\u001b[38;5;241m1\u001b[39m) \u001b[38;5;28;01mif\u001b[39;00m r \u001b[38;5;28;01melse\u001b[39;00m \u001b[38;5;28;01mNone\u001b[39;00m\n\u001b[0;32m--> 867\u001b[0m     \u001b[43mdownload_url_to_file\u001b[49m\u001b[43m(\u001b[49m\u001b[43murl\u001b[49m\u001b[43m,\u001b[49m\u001b[43m \u001b[49m\u001b[43mcached_file\u001b[49m\u001b[43m,\u001b[49m\u001b[43m \u001b[49m\u001b[43mhash_prefix\u001b[49m\u001b[43m,\u001b[49m\u001b[43m \u001b[49m\u001b[43mprogress\u001b[49m\u001b[38;5;241;43m=\u001b[39;49m\u001b[43mprogress\u001b[49m\u001b[43m)\u001b[49m\n\u001b[1;32m    869\u001b[0m \u001b[38;5;28;01mif\u001b[39;00m _is_legacy_zip_format(cached_file):\n\u001b[1;32m    870\u001b[0m     \u001b[38;5;28;01mreturn\u001b[39;00m _legacy_zip_load(cached_file, model_dir, map_location, weights_only)\n",
      "File \u001b[0;32m~/dev/py3_venv/ml/lib/python3.12/site-packages/torch/hub.py:708\u001b[0m, in \u001b[0;36mdownload_url_to_file\u001b[0;34m(url, dst, hash_prefix, progress)\u001b[0m\n\u001b[1;32m    706\u001b[0m file_size \u001b[38;5;241m=\u001b[39m \u001b[38;5;28;01mNone\u001b[39;00m\n\u001b[1;32m    707\u001b[0m req \u001b[38;5;241m=\u001b[39m Request(url, headers\u001b[38;5;241m=\u001b[39m{\u001b[38;5;124m\"\u001b[39m\u001b[38;5;124mUser-Agent\u001b[39m\u001b[38;5;124m\"\u001b[39m: \u001b[38;5;124m\"\u001b[39m\u001b[38;5;124mtorch.hub\u001b[39m\u001b[38;5;124m\"\u001b[39m})\n\u001b[0;32m--> 708\u001b[0m u \u001b[38;5;241m=\u001b[39m \u001b[43murlopen\u001b[49m\u001b[43m(\u001b[49m\u001b[43mreq\u001b[49m\u001b[43m)\u001b[49m\n\u001b[1;32m    709\u001b[0m meta \u001b[38;5;241m=\u001b[39m u\u001b[38;5;241m.\u001b[39minfo()\n\u001b[1;32m    710\u001b[0m \u001b[38;5;28;01mif\u001b[39;00m \u001b[38;5;28mhasattr\u001b[39m(meta, \u001b[38;5;124m\"\u001b[39m\u001b[38;5;124mgetheaders\u001b[39m\u001b[38;5;124m\"\u001b[39m):\n",
      "File \u001b[0;32m/Library/Frameworks/Python.framework/Versions/3.12/lib/python3.12/urllib/request.py:215\u001b[0m, in \u001b[0;36murlopen\u001b[0;34m(url, data, timeout, cafile, capath, cadefault, context)\u001b[0m\n\u001b[1;32m    213\u001b[0m \u001b[38;5;28;01melse\u001b[39;00m:\n\u001b[1;32m    214\u001b[0m     opener \u001b[38;5;241m=\u001b[39m _opener\n\u001b[0;32m--> 215\u001b[0m \u001b[38;5;28;01mreturn\u001b[39;00m \u001b[43mopener\u001b[49m\u001b[38;5;241;43m.\u001b[39;49m\u001b[43mopen\u001b[49m\u001b[43m(\u001b[49m\u001b[43murl\u001b[49m\u001b[43m,\u001b[49m\u001b[43m \u001b[49m\u001b[43mdata\u001b[49m\u001b[43m,\u001b[49m\u001b[43m \u001b[49m\u001b[43mtimeout\u001b[49m\u001b[43m)\u001b[49m\n",
      "File \u001b[0;32m/Library/Frameworks/Python.framework/Versions/3.12/lib/python3.12/urllib/request.py:515\u001b[0m, in \u001b[0;36mOpenerDirector.open\u001b[0;34m(self, fullurl, data, timeout)\u001b[0m\n\u001b[1;32m    512\u001b[0m     req \u001b[38;5;241m=\u001b[39m meth(req)\n\u001b[1;32m    514\u001b[0m sys\u001b[38;5;241m.\u001b[39maudit(\u001b[38;5;124m'\u001b[39m\u001b[38;5;124murllib.Request\u001b[39m\u001b[38;5;124m'\u001b[39m, req\u001b[38;5;241m.\u001b[39mfull_url, req\u001b[38;5;241m.\u001b[39mdata, req\u001b[38;5;241m.\u001b[39mheaders, req\u001b[38;5;241m.\u001b[39mget_method())\n\u001b[0;32m--> 515\u001b[0m response \u001b[38;5;241m=\u001b[39m \u001b[38;5;28;43mself\u001b[39;49m\u001b[38;5;241;43m.\u001b[39;49m\u001b[43m_open\u001b[49m\u001b[43m(\u001b[49m\u001b[43mreq\u001b[49m\u001b[43m,\u001b[49m\u001b[43m \u001b[49m\u001b[43mdata\u001b[49m\u001b[43m)\u001b[49m\n\u001b[1;32m    517\u001b[0m \u001b[38;5;66;03m# post-process response\u001b[39;00m\n\u001b[1;32m    518\u001b[0m meth_name \u001b[38;5;241m=\u001b[39m protocol\u001b[38;5;241m+\u001b[39m\u001b[38;5;124m\"\u001b[39m\u001b[38;5;124m_response\u001b[39m\u001b[38;5;124m\"\u001b[39m\n",
      "File \u001b[0;32m/Library/Frameworks/Python.framework/Versions/3.12/lib/python3.12/urllib/request.py:532\u001b[0m, in \u001b[0;36mOpenerDirector._open\u001b[0;34m(self, req, data)\u001b[0m\n\u001b[1;32m    529\u001b[0m     \u001b[38;5;28;01mreturn\u001b[39;00m result\n\u001b[1;32m    531\u001b[0m protocol \u001b[38;5;241m=\u001b[39m req\u001b[38;5;241m.\u001b[39mtype\n\u001b[0;32m--> 532\u001b[0m result \u001b[38;5;241m=\u001b[39m \u001b[38;5;28;43mself\u001b[39;49m\u001b[38;5;241;43m.\u001b[39;49m\u001b[43m_call_chain\u001b[49m\u001b[43m(\u001b[49m\u001b[38;5;28;43mself\u001b[39;49m\u001b[38;5;241;43m.\u001b[39;49m\u001b[43mhandle_open\u001b[49m\u001b[43m,\u001b[49m\u001b[43m \u001b[49m\u001b[43mprotocol\u001b[49m\u001b[43m,\u001b[49m\u001b[43m \u001b[49m\u001b[43mprotocol\u001b[49m\u001b[43m \u001b[49m\u001b[38;5;241;43m+\u001b[39;49m\n\u001b[1;32m    533\u001b[0m \u001b[43m                          \u001b[49m\u001b[38;5;124;43m'\u001b[39;49m\u001b[38;5;124;43m_open\u001b[39;49m\u001b[38;5;124;43m'\u001b[39;49m\u001b[43m,\u001b[49m\u001b[43m \u001b[49m\u001b[43mreq\u001b[49m\u001b[43m)\u001b[49m\n\u001b[1;32m    534\u001b[0m \u001b[38;5;28;01mif\u001b[39;00m result:\n\u001b[1;32m    535\u001b[0m     \u001b[38;5;28;01mreturn\u001b[39;00m result\n",
      "File \u001b[0;32m/Library/Frameworks/Python.framework/Versions/3.12/lib/python3.12/urllib/request.py:492\u001b[0m, in \u001b[0;36mOpenerDirector._call_chain\u001b[0;34m(self, chain, kind, meth_name, *args)\u001b[0m\n\u001b[1;32m    490\u001b[0m \u001b[38;5;28;01mfor\u001b[39;00m handler \u001b[38;5;129;01min\u001b[39;00m handlers:\n\u001b[1;32m    491\u001b[0m     func \u001b[38;5;241m=\u001b[39m \u001b[38;5;28mgetattr\u001b[39m(handler, meth_name)\n\u001b[0;32m--> 492\u001b[0m     result \u001b[38;5;241m=\u001b[39m \u001b[43mfunc\u001b[49m\u001b[43m(\u001b[49m\u001b[38;5;241;43m*\u001b[39;49m\u001b[43margs\u001b[49m\u001b[43m)\u001b[49m\n\u001b[1;32m    493\u001b[0m     \u001b[38;5;28;01mif\u001b[39;00m result \u001b[38;5;129;01mis\u001b[39;00m \u001b[38;5;129;01mnot\u001b[39;00m \u001b[38;5;28;01mNone\u001b[39;00m:\n\u001b[1;32m    494\u001b[0m         \u001b[38;5;28;01mreturn\u001b[39;00m result\n",
      "File \u001b[0;32m/Library/Frameworks/Python.framework/Versions/3.12/lib/python3.12/urllib/request.py:1392\u001b[0m, in \u001b[0;36mHTTPSHandler.https_open\u001b[0;34m(self, req)\u001b[0m\n\u001b[1;32m   1391\u001b[0m \u001b[38;5;28;01mdef\u001b[39;00m\u001b[38;5;250m \u001b[39m\u001b[38;5;21mhttps_open\u001b[39m(\u001b[38;5;28mself\u001b[39m, req):\n\u001b[0;32m-> 1392\u001b[0m     \u001b[38;5;28;01mreturn\u001b[39;00m \u001b[38;5;28;43mself\u001b[39;49m\u001b[38;5;241;43m.\u001b[39;49m\u001b[43mdo_open\u001b[49m\u001b[43m(\u001b[49m\u001b[43mhttp\u001b[49m\u001b[38;5;241;43m.\u001b[39;49m\u001b[43mclient\u001b[49m\u001b[38;5;241;43m.\u001b[39;49m\u001b[43mHTTPSConnection\u001b[49m\u001b[43m,\u001b[49m\u001b[43m \u001b[49m\u001b[43mreq\u001b[49m\u001b[43m,\u001b[49m\n\u001b[1;32m   1393\u001b[0m \u001b[43m                        \u001b[49m\u001b[43mcontext\u001b[49m\u001b[38;5;241;43m=\u001b[39;49m\u001b[38;5;28;43mself\u001b[39;49m\u001b[38;5;241;43m.\u001b[39;49m\u001b[43m_context\u001b[49m\u001b[43m)\u001b[49m\n",
      "File \u001b[0;32m/Library/Frameworks/Python.framework/Versions/3.12/lib/python3.12/urllib/request.py:1347\u001b[0m, in \u001b[0;36mAbstractHTTPHandler.do_open\u001b[0;34m(self, http_class, req, **http_conn_args)\u001b[0m\n\u001b[1;32m   1344\u001b[0m         h\u001b[38;5;241m.\u001b[39mrequest(req\u001b[38;5;241m.\u001b[39mget_method(), req\u001b[38;5;241m.\u001b[39mselector, req\u001b[38;5;241m.\u001b[39mdata, headers,\n\u001b[1;32m   1345\u001b[0m                   encode_chunked\u001b[38;5;241m=\u001b[39mreq\u001b[38;5;241m.\u001b[39mhas_header(\u001b[38;5;124m'\u001b[39m\u001b[38;5;124mTransfer-encoding\u001b[39m\u001b[38;5;124m'\u001b[39m))\n\u001b[1;32m   1346\u001b[0m     \u001b[38;5;28;01mexcept\u001b[39;00m \u001b[38;5;167;01mOSError\u001b[39;00m \u001b[38;5;28;01mas\u001b[39;00m err: \u001b[38;5;66;03m# timeout error\u001b[39;00m\n\u001b[0;32m-> 1347\u001b[0m         \u001b[38;5;28;01mraise\u001b[39;00m URLError(err)\n\u001b[1;32m   1348\u001b[0m     r \u001b[38;5;241m=\u001b[39m h\u001b[38;5;241m.\u001b[39mgetresponse()\n\u001b[1;32m   1349\u001b[0m \u001b[38;5;28;01mexcept\u001b[39;00m:\n",
      "\u001b[0;31mURLError\u001b[0m: <urlopen error [SSL: CERTIFICATE_VERIFY_FAILED] certificate verify failed: unable to get local issuer certificate (_ssl.c:1000)>"
     ]
    }
   ],
   "source": [
    "model = resnet18(weights=ResNet18_Weights.DEFAULT)\n",
    "data = torch.rand(1, 3, 64, 64)\n",
    "labels = torch.rand(1, 1000)"
   ]
  },
  {
   "cell_type": "code",
   "execution_count": 6,
   "metadata": {
    "id": "w6q9pVxP7b44"
   },
   "outputs": [],
   "source": [
    "prediction = model(data) # forward pass"
   ]
  },
  {
   "cell_type": "code",
   "execution_count": 7,
   "metadata": {
    "colab": {
     "base_uri": "https://localhost:8080/"
    },
    "id": "twv7W-n67kuP",
    "outputId": "74c9b657-4db0-43da-8568-f0bbb8363de2"
   },
   "outputs": [
    {
     "data": {
      "text/plain": [
       "tensor([[-8.2627e-01, -7.2846e-01, -7.6596e-01, -1.7972e+00, -8.7739e-01,\n",
       "         -4.6642e-01, -7.4123e-01,  4.9069e-01,  2.5512e-01, -1.0326e+00,\n",
       "         -1.0334e+00, -9.5563e-01, -5.1781e-01, -1.1987e+00, -1.4825e+00,\n",
       "         -8.2921e-01, -9.6692e-01, -2.4614e-01, -6.8490e-01, -6.2949e-01,\n",
       "         -1.8517e+00, -7.4901e-01, -1.9121e+00,  4.2123e-03, -8.7416e-01,\n",
       "         -1.0157e+00, -1.0546e+00, -1.3419e+00, -8.5292e-01, -5.8420e-01,\n",
       "         -8.8201e-01, -6.8255e-01, -4.7449e-01, -7.4852e-01, -4.7218e-01,\n",
       "         -3.6866e-01,  7.1759e-01, -5.3729e-01, -4.9094e-01,  9.6740e-03,\n",
       "         -1.0844e+00, -1.0702e+00, -1.2044e+00, -5.0899e-01, -9.7056e-01,\n",
       "         -2.4937e-01, -9.6362e-01, -4.9367e-01, -1.3865e+00, -1.2766e+00,\n",
       "         -6.8346e-01,  4.3076e-01, -4.0514e-01, -6.6586e-01, -4.1866e-01,\n",
       "         -1.2922e+00, -5.4359e-01, -1.4959e+00, -6.8638e-01, -6.7097e-01,\n",
       "          6.7659e-01,  5.1164e-02, -2.6268e-01,  1.8323e-01, -8.3820e-01,\n",
       "         -4.8487e-01, -5.0787e-01, -6.1052e-01, -1.0405e+00, -1.1434e+00,\n",
       "         -1.6757e+00, -5.1438e-02, -1.3775e+00, -2.7431e-01, -1.2329e+00,\n",
       "         -1.2141e+00,  1.2197e-01, -6.0309e-01,  3.8498e-01, -1.0504e-01,\n",
       "         -1.0872e+00, -1.7159e+00, -1.3821e-01, -6.5174e-01, -9.9089e-01,\n",
       "         -2.1712e-01,  3.4833e-02,  2.6249e-01, -3.8488e-02, -6.1185e-01,\n",
       "         -1.3656e+00, -1.2392e+00, -2.1569e+00, -2.6817e-01, -8.0358e-02,\n",
       "         -2.3127e+00, -7.4115e-01, -5.0356e-01, -2.0781e+00, -4.9145e-01,\n",
       "         -1.6158e+00, -9.6326e-01, -8.6790e-01, -3.9529e-01, -2.6322e-01,\n",
       "         -7.1528e-01, -3.5079e-01, -1.5170e+00, -1.2158e+00, -1.8784e+00,\n",
       "         -1.0534e+00, -8.3734e-01,  1.1474e+00,  4.3372e-01,  5.0236e-01,\n",
       "         -9.6482e-01, -7.7943e-01, -3.9775e-01,  2.5908e-01, -4.2967e-01,\n",
       "         -7.4334e-01, -9.2371e-02,  2.9769e-01, -1.4562e-01,  7.5040e-01,\n",
       "         -2.4755e-01, -7.5330e-02, -1.6600e+00, -1.5729e+00, -1.3047e+00,\n",
       "         -1.6178e+00, -1.9049e+00, -1.4882e+00, -1.7068e+00, -1.1922e+00,\n",
       "         -1.7263e+00, -1.4949e+00, -1.6517e+00, -1.5426e+00, -1.5476e+00,\n",
       "         -1.9030e+00, -2.2575e+00, -2.4814e+00, -1.9380e+00, -7.0863e-01,\n",
       "         -5.3373e-01, -1.3421e+00, -1.9368e+00, -1.5191e+00, -1.3726e+00,\n",
       "          3.9533e-01,  1.8556e+00, -8.6436e-01, -3.2403e-01,  3.0703e-01,\n",
       "          3.4573e-01, -1.4105e-01,  1.0134e-02,  2.4658e-01,  2.3401e-01,\n",
       "          4.5138e-01,  8.3565e-01,  4.1706e-01,  8.6736e-01,  4.3327e-01,\n",
       "         -2.5193e-01, -5.2676e-03, -3.4593e-01,  7.3052e-01, -1.1380e-01,\n",
       "          2.0908e-01,  1.0637e+00,  6.2767e-01,  3.6475e-01,  4.0322e-01,\n",
       "         -7.1301e-01,  2.3055e-01,  1.7851e-01,  5.2699e-01,  8.6541e-01,\n",
       "          7.9660e-01, -1.7803e-01,  7.2852e-01,  1.2621e-01,  7.7507e-01,\n",
       "          7.9388e-01,  5.9113e-01,  2.5811e-01,  1.6885e-01,  5.6535e-01,\n",
       "         -5.8586e-01,  2.9380e-01,  5.4666e-01,  4.6781e-01, -7.6501e-01,\n",
       "          9.9107e-01,  2.0513e-01,  1.9660e-01,  2.3232e-01,  5.6302e-01,\n",
       "          6.9481e-02,  1.1772e-01,  7.8051e-01,  6.6810e-01,  4.4651e-01,\n",
       "          1.7661e-01, -1.1629e-01,  6.8103e-01,  1.4423e+00,  5.6055e-01,\n",
       "          5.3713e-02,  4.9033e-01,  4.2795e-01,  4.9486e-02, -5.1469e-02,\n",
       "          5.6369e-01, -2.6093e-02,  4.4210e-01, -7.6401e-02,  7.4366e-01,\n",
       "          1.9421e-01, -2.0965e-01,  3.1160e-02,  7.9338e-01,  2.1794e-01,\n",
       "          7.8191e-01,  1.8663e-01,  6.4833e-01, -4.4702e-01, -1.7819e-01,\n",
       "          1.3803e-01,  4.3842e-01,  3.8270e-01, -7.7485e-02,  6.9461e-01,\n",
       "          9.3021e-01,  3.9224e-01,  3.5914e-01,  6.3299e-01, -9.7160e-02,\n",
       "          5.0793e-01, -5.5673e-02,  9.0206e-01,  6.6470e-01, -3.5425e-01,\n",
       "          7.0176e-01,  5.9550e-01,  2.1028e-01,  6.4741e-01,  4.4555e-01,\n",
       "          5.6616e-01,  9.7693e-01, -8.2178e-01,  9.2587e-01,  1.2665e+00,\n",
       "         -4.6169e-01,  4.9776e-01,  5.1531e-01, -3.0072e-02,  4.3455e-01,\n",
       "         -1.7099e-01, -3.1230e-01, -2.7591e-02,  5.0550e-01,  7.5331e-01,\n",
       "          9.0736e-01,  4.7452e-01,  6.6404e-01,  1.0023e-01, -4.4872e-01,\n",
       "         -8.9217e-01, -1.1139e+00, -7.7171e-01,  6.0291e-01, -1.0472e+00,\n",
       "         -8.2138e-01, -8.2520e-01, -6.1397e-01, -1.1274e+00, -4.6178e-01,\n",
       "         -3.0410e-01,  1.0318e+00,  1.0798e+00, -1.9047e-04,  5.2787e-01,\n",
       "          1.0633e+00, -1.7075e-01, -1.1603e-01, -4.4423e-01, -1.3659e+00,\n",
       "         -8.8762e-01, -1.1376e+00, -1.3356e-01, -6.0176e-01, -8.5722e-01,\n",
       "         -9.7271e-01, -7.7316e-01, -1.3282e+00, -3.6311e-01,  1.5264e-01,\n",
       "         -1.9498e+00, -8.9446e-01, -6.3942e-01, -3.4602e-01, -1.1033e+00,\n",
       "         -1.1371e+00,  2.8421e-01, -7.1620e-01, -1.3839e+00, -5.8745e-01,\n",
       "          3.0207e-01, -2.4264e-01, -3.8812e-01,  2.9382e-01,  4.2408e-01,\n",
       "         -3.7168e-01, -7.7540e-01, -8.6558e-01, -1.4771e+00, -6.7487e-01,\n",
       "         -1.6086e+00, -1.3503e+00, -1.6448e+00, -1.5388e+00, -1.7339e+00,\n",
       "         -1.8222e+00, -1.2463e+00, -1.8737e-01, -4.3462e-01, -6.6912e-01,\n",
       "         -3.3225e-02, -3.0308e-01, -7.6224e-02,  3.3986e-01, -4.9052e-01,\n",
       "         -7.3263e-01, -1.3222e+00,  2.6231e-01,  6.0960e-01, -1.0847e+00,\n",
       "         -1.8978e-01,  7.9848e-01, -3.4404e-01, -1.2217e+00, -8.2959e-01,\n",
       "          7.4167e-01, -6.2253e-01, -1.6373e+00,  9.6623e-02, -1.1720e+00,\n",
       "         -1.1129e+00, -2.0930e+00, -1.3963e+00, -6.1477e-01, -5.7898e-01,\n",
       "          3.5753e-01,  1.3738e+00, -7.4325e-02,  6.8514e-01,  7.4582e-01,\n",
       "         -9.2995e-02,  7.0293e-01,  4.8900e-01,  2.0606e-01, -1.8184e-01,\n",
       "         -3.7051e-01, -8.2048e-01, -8.8382e-02, -7.2578e-01, -7.8639e-01,\n",
       "         -4.1879e-01,  8.1458e-02, -1.1585e-01,  1.9515e-01, -2.5630e-02,\n",
       "         -9.7315e-01, -9.3622e-01,  5.2076e-01, -2.0031e-01, -3.6380e-01,\n",
       "          4.7861e-01, -2.8393e-01,  3.4155e-04, -5.3585e-01, -8.2307e-01,\n",
       "         -4.5847e-01, -1.1941e+00, -8.7219e-01, -8.9195e-01, -3.7668e-01,\n",
       "          4.9924e-01,  4.9210e-02, -1.5641e+00, -1.7353e+00, -1.8090e-01,\n",
       "          4.1325e-01, -1.4055e+00, -1.0928e+00,  3.2647e-01, -1.6964e-01,\n",
       "         -9.2308e-01,  6.7531e-01,  1.5528e-01, -2.4853e+00, -1.6652e+00,\n",
       "         -6.1154e-01, -3.2769e-01,  9.1707e-02, -2.5164e-01,  8.7123e-01,\n",
       "         -3.1453e-01,  1.3992e-01,  2.2500e+00,  9.7026e-01,  2.8424e-01,\n",
       "          8.0055e-01, -1.7590e-01,  5.6931e-01,  4.6996e-01,  1.2891e+00,\n",
       "          7.3304e-01,  1.3750e+00, -1.9462e-01,  3.3562e-01,  1.9271e-01,\n",
       "         -9.9347e-01, -2.5668e-01,  1.5970e+00,  2.1531e+00,  6.2386e-01,\n",
       "         -3.4456e-01,  1.2388e-01,  4.6753e-01,  7.7121e-01,  3.5951e-01,\n",
       "          1.2936e+00, -9.2638e-02, -5.7390e-01,  3.4076e-01,  1.3078e-01,\n",
       "          8.9940e-01,  5.2962e-01, -4.7891e-02, -9.5917e-01, -2.4645e-01,\n",
       "          3.7013e-01,  2.8997e-01,  1.5957e+00,  9.0028e-01, -9.2854e-01,\n",
       "         -9.2423e-02,  3.5787e-01,  7.2958e-01, -4.2227e-02, -5.5185e-02,\n",
       "          7.7371e-01,  1.3192e+00,  1.5239e+00,  5.6957e-02,  8.7478e-01,\n",
       "         -9.3233e-01,  4.7550e-01,  9.8471e-01,  2.7159e+00,  1.2703e+00,\n",
       "         -3.6855e-01, -1.1687e+00, -8.4044e-02,  4.2850e-01,  1.5726e+00,\n",
       "          1.3318e+00,  7.5634e-01,  3.7961e-01,  8.7476e-01, -4.9119e-01,\n",
       "          1.4673e-01, -2.9362e-01,  4.1350e-01,  9.1957e-01,  3.2851e-01,\n",
       "          1.2614e-01,  2.6554e-01,  3.6509e-01, -1.0835e+00, -1.3216e+00,\n",
       "          5.2664e-02, -2.2276e-01,  1.3257e+00,  1.4150e+00,  1.3163e+00,\n",
       "          4.0930e-01,  1.2477e+00,  8.0892e-01, -1.2398e+00,  1.2492e+00,\n",
       "         -9.3264e-01,  1.8389e-01, -6.5009e-01, -3.5974e-01,  1.1471e+00,\n",
       "         -1.7568e+00,  5.9067e-01,  1.3292e+00,  4.8779e-01,  1.0367e+00,\n",
       "          1.2306e+00,  8.2396e-01,  5.9853e-01,  3.8279e-01,  7.8382e-02,\n",
       "         -1.2249e+00, -8.3311e-01,  8.2090e-01,  5.1146e-01,  1.4449e+00,\n",
       "          1.9300e+00,  5.8504e-01, -1.2852e-02,  1.2969e+00,  8.2187e-01,\n",
       "         -6.7820e-01,  1.4211e-01,  1.2638e+00,  1.9286e+00,  2.3063e-01,\n",
       "         -7.3727e-01, -8.8316e-03, -5.1878e-01,  1.8739e-01,  4.6387e-02,\n",
       "          1.0740e+00,  3.2035e-01,  1.7100e-01, -1.2928e+00,  3.8081e-01,\n",
       "         -5.2066e-01, -5.7441e-01, -7.5895e-01, -5.5178e-03,  1.4127e+00,\n",
       "         -1.3294e+00,  1.7638e+00,  1.1072e+00,  9.8630e-01,  5.1253e-01,\n",
       "          7.8845e-01,  5.9174e-01, -2.0128e+00, -1.2843e+00, -1.1740e-01,\n",
       "         -5.3683e-01, -1.2010e-01,  8.3518e-01, -1.2002e-01, -1.3772e+00,\n",
       "         -6.1301e-01,  1.4534e-01,  3.3141e-02,  1.3340e+00,  1.4071e+00,\n",
       "          4.9009e-01, -1.5750e-01,  6.4750e-01,  1.1565e-01, -1.4617e+00,\n",
       "         -6.7942e-01,  1.7596e-01,  1.0586e+00,  5.6383e-01, -4.5472e-01,\n",
       "          1.2530e+00, -2.2417e-01,  8.6977e-01, -7.3671e-01,  4.5753e-01,\n",
       "         -2.4528e-01, -1.1156e+00,  1.2521e+00,  2.9743e-01, -1.7813e-03,\n",
       "          3.4641e-01, -1.4999e-01,  6.3274e-01,  6.3480e-01,  8.2843e-01,\n",
       "          9.9021e-01, -1.5872e-01,  1.8847e+00,  9.8779e-01,  1.3411e+00,\n",
       "         -5.9212e-01,  4.9532e-01, -7.5817e-01,  1.1362e+00,  3.5196e-01,\n",
       "         -5.0784e-01,  1.1116e+00,  1.5269e-01, -4.6799e-01,  7.7251e-01,\n",
       "          2.1847e+00, -8.0020e-02, -2.4532e-01, -3.8977e-01,  5.7407e-01,\n",
       "          1.6998e-01,  1.3248e+00, -3.0095e-01,  6.1889e-01,  7.7623e-02,\n",
       "          9.0442e-01,  6.7818e-01, -7.1311e-01,  5.8829e-01,  2.8114e-01,\n",
       "          5.0895e-01,  1.0130e+00,  5.3794e-01,  2.0732e+00,  9.6390e-01,\n",
       "          1.0777e+00,  8.6901e-01,  4.0684e-01,  5.2200e-01,  1.8870e-01,\n",
       "         -1.0262e+00,  1.2284e+00, -2.1995e-01, -1.1719e+00,  1.5311e-01,\n",
       "          2.4126e-01,  9.0198e-01,  8.7048e-01,  1.0902e+00, -5.1985e-01,\n",
       "          3.9723e-01,  1.2290e+00,  7.9638e-01,  6.6854e-01,  3.1251e-01,\n",
       "         -1.6293e+00,  1.4420e+00,  9.3522e-02,  1.4621e+00,  6.2609e-01,\n",
       "         -1.0242e+00,  8.8526e-01,  3.9863e-01, -6.1965e-01, -1.5231e+00,\n",
       "          1.3729e+00, -3.5210e-02,  9.0779e-01,  1.1590e+00, -6.0294e-03,\n",
       "          7.4460e-01, -2.1817e-02, -1.1759e-01,  6.6085e-02,  5.3549e-01,\n",
       "         -3.5109e-01, -1.2249e+00, -3.6724e-02, -1.0426e+00,  8.8942e-01,\n",
       "          1.0347e-01,  1.3814e+00,  2.4905e-01, -9.2121e-01, -3.6412e-01,\n",
       "          1.6509e-01, -1.3595e-01, -2.7075e-01,  5.7057e-01,  1.6758e+00,\n",
       "         -6.4870e-01,  2.0390e+00,  9.5354e-01,  9.2729e-01, -4.0358e-03,\n",
       "          7.0873e-01,  6.2154e-01, -7.6555e-01,  6.1625e-01,  9.7507e-01,\n",
       "         -1.5178e+00,  3.5615e-02, -1.3113e+00, -4.8901e-01, -9.1079e-01,\n",
       "         -5.6556e-01,  9.3621e-01,  9.0524e-01,  7.4909e-01, -6.9919e-01,\n",
       "          9.6214e-01,  1.3495e+00,  5.8342e-02, -6.3691e-01,  7.5827e-01,\n",
       "          2.0198e+00, -3.0541e-01, -2.5321e-01,  7.0546e-01,  7.8918e-01,\n",
       "         -3.5604e-01, -3.4188e-01,  7.5578e-02,  9.5143e-01,  8.9645e-02,\n",
       "          1.0646e+00,  8.5075e-01, -3.8598e-01, -6.6952e-01,  4.5382e-01,\n",
       "         -5.7727e-01,  8.2948e-01, -8.2577e-01, -4.2860e-01,  8.7025e-01,\n",
       "          2.7557e-01,  3.9680e-01,  1.2025e+00,  1.4252e-01, -5.9476e-01,\n",
       "          1.3804e+00, -5.1534e-01, -8.7199e-02,  1.7420e+00, -4.1156e-01,\n",
       "          2.7815e-01,  2.4134e+00, -5.3405e-01,  1.7912e+00, -1.0402e+00,\n",
       "          2.0626e-01, -7.0595e-02,  9.7116e-01,  1.1079e+00,  1.3703e-01,\n",
       "          1.1740e+00, -1.7276e-01,  2.9528e-01,  2.1698e-01,  6.8185e-01,\n",
       "          1.6642e-01,  1.6204e-01,  6.7288e-01,  5.5808e-01,  1.4860e+00,\n",
       "          5.8474e-01,  2.1348e-01,  3.0565e-01,  7.2277e-01,  8.5282e-01,\n",
       "         -4.8858e-01,  1.1512e+00, -2.4096e-01,  1.2292e+00, -2.1853e-01,\n",
       "         -4.7886e-02,  1.1061e+00,  4.7029e-01,  9.5061e-01,  1.6201e+00,\n",
       "          1.0782e+00,  5.0109e-01,  3.3460e-01,  1.1440e-01,  1.4151e+00,\n",
       "          7.8890e-01,  4.4419e-01,  7.2783e-01,  1.0155e+00,  1.1836e+00,\n",
       "          3.1256e-01,  3.5080e-01,  8.4442e-01,  1.2214e+00, -6.0756e-01,\n",
       "         -1.0089e+00, -6.7535e-01,  1.0170e+00,  6.5999e-01,  1.3781e+00,\n",
       "          5.1773e-01,  4.1615e-01,  1.3747e+00,  3.7531e-01, -1.1942e-01,\n",
       "          6.0103e-01,  1.3684e+00,  1.6015e+00,  1.1040e+00,  4.4206e-01,\n",
       "          1.3132e-01,  9.3706e-01,  7.2243e-01, -5.4670e-01,  4.7069e-01,\n",
       "         -8.4703e-01,  3.4214e-01, -1.1235e+00, -1.1835e+00,  1.2515e+00,\n",
       "          1.4211e+00,  1.3865e-01,  2.6689e-01,  1.5459e+00,  9.5221e-02,\n",
       "         -5.6970e-01,  1.2700e+00, -2.6762e-01,  1.6597e+00, -9.2627e-01,\n",
       "         -2.6836e-01,  8.5617e-02, -9.1730e-01,  1.5713e+00,  5.4244e-01,\n",
       "         -1.7723e+00, -1.0331e+00,  3.8950e-01,  8.0219e-01,  6.7388e-01,\n",
       "         -1.0179e+00,  1.5451e-01,  8.4056e-01,  1.3830e+00, -6.8105e-01,\n",
       "          1.5574e+00,  5.7407e-01, -7.7941e-01, -1.0818e+00,  3.9225e-01,\n",
       "          4.2880e-01,  1.7472e+00,  1.6877e+00,  1.1631e+00, -7.2758e-01,\n",
       "          1.1387e+00,  5.6166e-01,  5.6547e-01,  6.1701e-01,  6.0555e-01,\n",
       "          1.6731e+00,  7.2623e-01, -4.8770e-01,  4.8807e-01,  9.2709e-01,\n",
       "          1.4631e+00,  1.4907e+00,  1.9653e+00, -9.1637e-01, -4.9237e-01,\n",
       "          8.4743e-01, -7.0869e-01, -1.2381e-01, -5.5286e-01,  1.2729e+00,\n",
       "          3.6145e-01,  1.7058e+00,  1.3519e+00,  1.6081e-01, -1.0053e-01,\n",
       "          5.8365e-01, -2.6409e-02, -3.7157e-01,  1.6449e+00, -2.9114e-01,\n",
       "          9.6986e-01, -1.4195e+00,  1.1513e+00, -1.3711e+00, -2.3785e+00,\n",
       "          3.9667e-01,  1.6768e+00, -2.7557e-01, -3.6645e-01,  1.7063e+00,\n",
       "          8.2751e-01, -1.3076e-01,  1.1474e+00,  1.4026e+00,  1.1253e-02,\n",
       "         -1.1880e-01, -4.1649e-01, -4.5437e-01, -1.0116e+00,  4.0137e-01,\n",
       "         -3.0848e-01,  1.6999e-01,  3.9834e-01,  3.8692e-01, -6.1420e-01,\n",
       "         -7.5385e-01,  1.3355e+00,  4.2597e-01,  1.9738e+00,  2.0702e+00,\n",
       "         -8.8603e-01, -2.5974e-01,  1.8693e+00,  7.6309e-01,  7.3764e-01,\n",
       "         -2.8174e-01, -4.8955e-01,  1.1494e+00, -9.1340e-01,  9.2838e-01,\n",
       "          1.2363e+00,  7.3890e-01,  8.4929e-01, -2.7457e-01, -1.8997e+00,\n",
       "         -2.9483e-01,  1.4923e-01,  6.3614e-01,  6.2501e-01,  5.0834e-01,\n",
       "         -1.4336e-01,  1.3702e+00, -8.2241e-01,  3.4159e-01, -3.8912e-01,\n",
       "         -1.0643e+00, -1.2101e+00, -7.5831e-01, -2.3780e-01,  1.5168e+00,\n",
       "         -2.8752e-01, -2.4477e-01,  2.7336e-01, -1.6066e+00,  6.3619e-02,\n",
       "         -6.3860e-01,  8.9990e-02,  1.6012e-01, -1.9080e-01, -6.0150e-02,\n",
       "          2.4002e-02, -4.4893e-01, -2.3444e-01, -7.2606e-02, -7.3632e-01,\n",
       "         -8.3497e-01, -1.6623e+00,  1.4161e-01,  7.1506e-01, -4.4245e-01,\n",
       "          1.0662e-01, -4.1243e-01, -6.4923e-01, -6.2556e-02,  5.9169e-01,\n",
       "         -5.9162e-01, -2.1251e-01, -4.6750e-01, -1.5877e-01, -1.0903e+00,\n",
       "          1.9348e-01,  1.0233e-01, -3.6708e-01, -8.0370e-01, -1.5742e+00,\n",
       "         -2.8819e-01,  3.6147e-01, -7.3839e-01,  8.2137e-01,  2.3030e-01,\n",
       "         -2.0318e-01,  5.9310e-01, -2.4655e-01, -7.0336e-01, -2.4043e+00,\n",
       "          7.5059e-01, -1.7858e+00,  2.2506e-01, -1.2174e-01, -9.7341e-01,\n",
       "         -9.2262e-01,  1.8255e-01,  8.6713e-01, -4.5508e-01, -9.7504e-01,\n",
       "         -1.3961e+00, -2.6649e+00,  1.0345e+00, -3.8745e-01, -1.1641e+00,\n",
       "         -5.2629e-01, -1.3591e+00, -9.9527e-01, -2.2083e+00, -7.5088e-01,\n",
       "         -3.7714e-01, -2.5730e-01, -8.8498e-01,  9.0479e-01,  1.2582e+00]],\n",
       "       grad_fn=<AddmmBackward0>)"
      ]
     },
     "execution_count": 7,
     "metadata": {},
     "output_type": "execute_result"
    }
   ],
   "source": [
    "prediction"
   ]
  },
  {
   "cell_type": "code",
   "execution_count": 8,
   "metadata": {
    "id": "DwZ-8oOy7l9E"
   },
   "outputs": [],
   "source": [
    "loss = (prediction - labels).sum()\n",
    "loss.backward() # backward pass"
   ]
  },
  {
   "cell_type": "code",
   "execution_count": 9,
   "metadata": {
    "id": "99hBkOrX7vh3"
   },
   "outputs": [],
   "source": [
    "optim = torch.optim.SGD(model.parameters(), lr=1e-2, momentum=0.9)"
   ]
  },
  {
   "cell_type": "code",
   "execution_count": 10,
   "metadata": {
    "id": "wqLn_csA7_aG"
   },
   "outputs": [],
   "source": [
    "optim.step() # gradient descent"
   ]
  },
  {
   "cell_type": "code",
   "execution_count": 11,
   "metadata": {
    "id": "gI_4rOn58CzH"
   },
   "outputs": [],
   "source": [
    "import torch\n",
    "\n",
    "a = torch.tensor([2., 3.], requires_grad=True)\n",
    "b = torch.tensor([6., 4.], requires_grad=True)"
   ]
  },
  {
   "cell_type": "code",
   "execution_count": 12,
   "metadata": {
    "colab": {
     "base_uri": "https://localhost:8080/"
    },
    "id": "0bFiPX6286h1",
    "outputId": "21c15c19-5b12-4d00-ae61-bb0421cdebfb"
   },
   "outputs": [
    {
     "data": {
      "text/plain": [
       "(tensor([2., 3.], requires_grad=True), tensor([6., 4.], requires_grad=True))"
      ]
     },
     "execution_count": 12,
     "metadata": {},
     "output_type": "execute_result"
    }
   ],
   "source": [
    "a, b"
   ]
  },
  {
   "cell_type": "code",
   "execution_count": 13,
   "metadata": {
    "colab": {
     "base_uri": "https://localhost:8080/"
    },
    "id": "fHL6dA7u880T",
    "outputId": "081971c6-9051-4a3b-a71c-f1e888c51575"
   },
   "outputs": [
    {
     "data": {
      "text/plain": [
       "tensor([-12.,  65.], grad_fn=<SubBackward0>)"
      ]
     },
     "execution_count": 13,
     "metadata": {},
     "output_type": "execute_result"
    }
   ],
   "source": [
    "Q = 3*a**3 - b**2\n",
    "Q"
   ]
  },
  {
   "cell_type": "code",
   "execution_count": 14,
   "metadata": {
    "id": "0zKYQZ6y9CAR"
   },
   "outputs": [],
   "source": [
    "external_grad = torch.tensor([1., 1.])\n",
    "Q.backward(gradient=external_grad)"
   ]
  },
  {
   "cell_type": "code",
   "execution_count": 15,
   "metadata": {
    "colab": {
     "base_uri": "https://localhost:8080/"
    },
    "id": "cZNCcF8L9PrM",
    "outputId": "ddd3c4cc-ae74-4d96-ba43-0ed3ee37154e"
   },
   "outputs": [
    {
     "name": "stdout",
     "output_type": "stream",
     "text": [
      "tensor([True, True])\n",
      "tensor([True, True])\n"
     ]
    }
   ],
   "source": [
    "# check if collected gradients are correct\n",
    "print(9*a**2 == a.grad)\n",
    "print(-2*b == b.grad)"
   ]
  },
  {
   "cell_type": "code",
   "execution_count": null,
   "metadata": {
    "id": "_WLis-M_9dpg"
   },
   "outputs": [],
   "source": [
    "x = torc"
   ]
  }
 ],
 "metadata": {
  "colab": {
   "authorship_tag": "ABX9TyPFaNgssWP/Pp1tvj88QxuL",
   "provenance": []
  },
  "kernelspec": {
   "display_name": "Python 3 (ipykernel)",
   "language": "python",
   "name": "python3"
  },
  "language_info": {
   "codemirror_mode": {
    "name": "ipython",
    "version": 3
   },
   "file_extension": ".py",
   "mimetype": "text/x-python",
   "name": "python",
   "nbconvert_exporter": "python",
   "pygments_lexer": "ipython3",
   "version": "3.12.3"
  }
 },
 "nbformat": 4,
 "nbformat_minor": 4
}
