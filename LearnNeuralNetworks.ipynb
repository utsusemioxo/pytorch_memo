{
  "nbformat": 4,
  "nbformat_minor": 0,
  "metadata": {
    "colab": {
      "provenance": [],
      "toc_visible": true,
      "authorship_tag": "ABX9TyPZHivd2o/AsJl74enVtlSU"
    },
    "kernelspec": {
      "name": "python3",
      "display_name": "Python 3"
    },
    "language_info": {
      "name": "python"
    }
  },
  "cells": [
    {
      "cell_type": "markdown",
      "source": [
        "# Using `torch.nn` to construct neural networks"
      ],
      "metadata": {
        "id": "0bSvNvnnxk6K"
      }
    },
    {
      "cell_type": "markdown",
      "source": [
        "A Typical training procedure for a neural network is as follows:\n",
        "1. Define the neural network that has some learnable parameters(or weights)\n",
        "2. Iterate over a dataset of inputs\n",
        "3. Process input through the network\n",
        "4. Compute the loss (how far is the output from being correct)\n",
        "5. Propagate gradients back into the network's parameters\n",
        "6. Update the weights of the network, typically using a simple update rule: `weight = weight - learning_rate * gradient`"
      ],
      "metadata": {
        "id": "62debqrMw3We"
      }
    },
    {
      "cell_type": "markdown",
      "source": [
        "## Define the network"
      ],
      "metadata": {
        "id": "wAk3u9G8xxXM"
      }
    },
    {
      "cell_type": "markdown",
      "source": [
        "You just have to define the `forward` function, and the `backward` function (where gradients are computed) is automatically defined for you using `autograd`. You can use any of the Tensor operations in the `forward` function."
      ],
      "metadata": {
        "id": "zvi7HNz16TW7"
      }
    },
    {
      "cell_type": "code",
      "source": [
        "import torch\n",
        "import torch.nn as nn\n",
        "import torch.nn.functional as F\n",
        "\n",
        "class Net(nn.Module):\n",
        "\n",
        "  def __init__(self):\n",
        "    super(Net, self).__init__()\n",
        "    # 1 input image channel, 6 output channels, 5x5 square convolution\n",
        "    # kernel\n",
        "    self.conv1 = nn.Conv2d(1, 6, 5)\n",
        "    self.conv2 = nn.Conv2d(6, 16, 5)\n",
        "    # an affine operation: y = Wx + b\n",
        "    self.fc1 = nn.Linear(16 * 5 * 5, 120) # 5*5 from image dimension\n",
        "    self.fc2 = nn.Linear(120, 84)\n",
        "    self.fc3 = nn.Linear(84, 10)\n",
        "\n",
        "  def forward(self, input):\n",
        "    # Convolution layer C1: 1 input image channel, 6 output channels,\n",
        "    # 5x5 square convolution, it use RELU activation function, and\n",
        "    # outputs a Tensor with size (N, 6, 28, 28), where N is the size of the batch\n",
        "\n",
        "    c1 = F.relu(self.conv1(input))\n",
        "    # Subsampling layer S2: 2x2 grid, purely functional,\n",
        "    # this layer does not have any parameter, and outputs a (N, 6, 14, 14) Tensor\n",
        "    s2 = F.max_pool2d(c1, (2, 2))\n",
        "    # Convolution layer C3: 6 input channels, 16 output channels,\n",
        "    # 5x5 square convplution, it uses RELU activation function, and\n",
        "    # outputs a (N, 16, 10, 10) Tensor\n",
        "    c3 = F.relu(self.conv2(s2))\n",
        "    # Subsampleing layer S4: 2x2 grid, purely functional,\n",
        "    # this layer does not have any parameter, and outputs a (N, 16, 5, 5) Tensor\n",
        "    s4 = F.max_pool2d(c3, 2)\n",
        "    # Flatten operation: purely functional, outputs a (N, 400) Tensor\n",
        "    s4 = torch.flatten(s4, 1)\n",
        "    # Fully connected layer F5: (N, 400) Tensor input,\n",
        "    # and outputs a (N, 120) Tensor, it uses RELU activation function\n",
        "    f5 = F.relu(self.fc1(s4))\n",
        "    # Fully connected layer F6: (N, 120) Tensor input,\n",
        "    # and outputs a (N, 120) Tensor, it uses RELU activation function\n",
        "    f6 = F.relu(self.fc2(f5))\n",
        "    # Gaussian layer output: (N, 84) Tensor input, and\n",
        "    # outputs a (N, 10) Tensor\n",
        "    output = self.fc3(f6)\n",
        "    return output\n",
        "\n",
        "net = Net()\n",
        "print(net)"
      ],
      "metadata": {
        "colab": {
          "base_uri": "https://localhost:8080/"
        },
        "id": "ysnSf0Uuxhqb",
        "outputId": "f3128c5d-d0cb-409b-89d2-6faab9c0390b"
      },
      "execution_count": 1,
      "outputs": [
        {
          "output_type": "stream",
          "name": "stdout",
          "text": [
            "Net(\n",
            "  (conv1): Conv2d(1, 6, kernel_size=(5, 5), stride=(1, 1))\n",
            "  (conv2): Conv2d(6, 16, kernel_size=(5, 5), stride=(1, 1))\n",
            "  (fc1): Linear(in_features=400, out_features=120, bias=True)\n",
            "  (fc2): Linear(in_features=120, out_features=84, bias=True)\n",
            "  (fc3): Linear(in_features=84, out_features=10, bias=True)\n",
            ")\n"
          ]
        }
      ]
    },
    {
      "cell_type": "markdown",
      "source": [
        "The learnable parameters of a model are returned by `net.parameters`"
      ],
      "metadata": {
        "id": "zuEwlTNr6op2"
      }
    },
    {
      "cell_type": "code",
      "source": [
        "params = list(net.parameters())\n",
        "print(len(params))\n",
        "print(params[0].size()) # conv1's .weight"
      ],
      "metadata": {
        "colab": {
          "base_uri": "https://localhost:8080/"
        },
        "id": "rW8de3Bwx1CT",
        "outputId": "187d88a0-70fc-4080-b40d-eaf7cae18bf7"
      },
      "execution_count": 2,
      "outputs": [
        {
          "output_type": "stream",
          "name": "stdout",
          "text": [
            "10\n",
            "torch.Size([6, 1, 5, 5])\n"
          ]
        }
      ]
    },
    {
      "cell_type": "code",
      "source": [
        "input = torch.randn(1, 1, 32, 32)\n",
        "out = net(input)\n",
        "print(out)"
      ],
      "metadata": {
        "colab": {
          "base_uri": "https://localhost:8080/"
        },
        "id": "Xc6-7F2S2ZOO",
        "outputId": "e9b3834d-0bf1-4db7-8f73-0dcbea5e5b17"
      },
      "execution_count": 3,
      "outputs": [
        {
          "output_type": "stream",
          "name": "stdout",
          "text": [
            "tensor([[ 0.0300, -0.0388,  0.0225,  0.0142,  0.1083, -0.1044,  0.0349, -0.0656,\n",
            "         -0.0866,  0.0231]], grad_fn=<AddmmBackward0>)\n"
          ]
        }
      ]
    },
    {
      "cell_type": "markdown",
      "source": [
        "Zero the gradient buffers of all parameters and backprops with random gradients:"
      ],
      "metadata": {
        "id": "y4i7U8ASLSWa"
      }
    },
    {
      "cell_type": "code",
      "source": [
        "net.zero_grad()\n",
        "out.backward(torch.randn(1, 10))"
      ],
      "metadata": {
        "id": "m12GsWgA2gSy"
      },
      "execution_count": 4,
      "outputs": []
    },
    {
      "cell_type": "markdown",
      "source": [
        "**Recap**\n",
        "- `torch.Tensor` - A *multi-dimensional array* with support for autograd operations like `backward()`. Also *holds the gradient* w.r.t the tensor.\n",
        "- `nn.Module` - Neural network module. *Cpnvenient way of encapsulating parameters*, with helpers for moving them to GPU, exporting, loading, etc.\n",
        "- `nn.Parameter` - A kind of Tensor, that is *automatically registered as a parameter when assigned as an attribute to a* `Module`.\n",
        "- `autograd.Function` - Implements *forward and backward definitions of an autograd operation*. Every `Tensor` operation creates at least a single `Function` node that connects to functions that created a `Tensor` and *encodes its history*."
      ],
      "metadata": {
        "id": "6qVm8q9PL8oe"
      }
    },
    {
      "cell_type": "markdown",
      "source": [
        "**At this point, we coverd:**\n",
        "- Defining a neural network\n",
        "- Processing inputs and calling backward"
      ],
      "metadata": {
        "id": "8yg5MB2sNVxw"
      }
    },
    {
      "cell_type": "markdown",
      "source": [
        "**Still Left**\n",
        "- Computing the loss\n",
        "- Updating the weights of the network"
      ],
      "metadata": {
        "id": "w0snEPtuNf5F"
      }
    },
    {
      "cell_type": "markdown",
      "source": [
        "## Loss Function"
      ],
      "metadata": {
        "id": "Dh8FRTFwNpSF"
      }
    },
    {
      "cell_type": "markdown",
      "source": [
        "A loss function takes the (output, target) pair of inputs, and computes a value that estimates how far away the output is from the target.\n",
        "\n",
        "There are several different loss functions under nn package. A simple loss is: `nn.MSELoss` which computes the mean-squared error between the output and the target.\n",
        "\n",
        "For example:"
      ],
      "metadata": {
        "id": "pHXzeQCDOghu"
      }
    },
    {
      "cell_type": "code",
      "source": [
        "output = net(input)\n",
        "target = torch.randn(10) # a dummy target, for example\n",
        "target = target.view(1, -1) # make it the same shape as output\n",
        "criterion = nn.MSELoss()\n",
        "\n",
        "loss = criterion(output, target)\n",
        "print(loss)"
      ],
      "metadata": {
        "colab": {
          "base_uri": "https://localhost:8080/"
        },
        "id": "3oWJYrCUO90x",
        "outputId": "b8a28042-b943-45b6-c478-2d6d212b11d4"
      },
      "execution_count": 6,
      "outputs": [
        {
          "output_type": "stream",
          "name": "stdout",
          "text": [
            "tensor(1.9037, grad_fn=<MseLossBackward0>)\n"
          ]
        }
      ]
    },
    {
      "cell_type": "code",
      "source": [
        "print(loss.grad_fn) # MSELoss\n",
        "print(loss.grad_fn.next_functions[0][0]) # Linear\n",
        "print(loss.grad_fn.next_functions[0][0].next_functions[0][0]) # ReLU"
      ],
      "metadata": {
        "colab": {
          "base_uri": "https://localhost:8080/"
        },
        "id": "UoQDHF4eP9v4",
        "outputId": "96f9fc45-7aee-4347-8d2a-aed6aa03a621"
      },
      "execution_count": 10,
      "outputs": [
        {
          "output_type": "stream",
          "name": "stdout",
          "text": [
            "<MseLossBackward0 object at 0x7df6c0eeb640>\n",
            "<AddmmBackward0 object at 0x7df6c0eeb8b0>\n",
            "<AccumulateGrad object at 0x7df6c0eeb640>\n"
          ]
        }
      ]
    },
    {
      "cell_type": "markdown",
      "source": [
        "## Backprop"
      ],
      "metadata": {
        "id": "rzscoWd7Ntr3"
      }
    },
    {
      "cell_type": "markdown",
      "source": [
        "To backpropagate the error all we have to do is to `loss.backward()`. You need to clear the existing gradients though, else gradients will be accumulated to existing gradients."
      ],
      "metadata": {
        "id": "TDIYcqXHRT_S"
      }
    },
    {
      "cell_type": "code",
      "source": [
        "net.zero_grad() # zeros the gradient buffers of all parameters\n",
        "print('conv1.bias.grad before backward')\n",
        "print(net.conv1.bias.grad)"
      ],
      "metadata": {
        "colab": {
          "base_uri": "https://localhost:8080/"
        },
        "id": "YGdg7EpmRmow",
        "outputId": "434179a2-083f-4d99-db49-1e4aee1983e2"
      },
      "execution_count": 11,
      "outputs": [
        {
          "output_type": "stream",
          "name": "stdout",
          "text": [
            "conv1.bias.grad before backward\n",
            "None\n"
          ]
        }
      ]
    },
    {
      "cell_type": "markdown",
      "source": [
        "Than we shall call `loss.backward()`, and have a look at conv1's bias gradients before and after the backward."
      ],
      "metadata": {
        "id": "YVX9nrlFR2MM"
      }
    },
    {
      "cell_type": "code",
      "source": [
        "loss.backward()\n",
        "print('conv1.bias.grad after backward')\n",
        "print(net.conv1.bias.grad)"
      ],
      "metadata": {
        "colab": {
          "base_uri": "https://localhost:8080/"
        },
        "id": "IR7YdjecR-YT",
        "outputId": "6a1072f2-f12f-4d6e-bf77-1216d348dbf5"
      },
      "execution_count": 12,
      "outputs": [
        {
          "output_type": "stream",
          "name": "stdout",
          "text": [
            "conv1.bias.grad after backward\n",
            "tensor([-0.0013, -0.0277,  0.0318, -0.0109,  0.0012, -0.0121])\n"
          ]
        }
      ]
    },
    {
      "cell_type": "markdown",
      "source": [
        "## Update the weights"
      ],
      "metadata": {
        "id": "6N8gZrCPNxem"
      }
    },
    {
      "cell_type": "markdown",
      "source": [
        "The simplest update rule used in practice is the Stochastic Gradient Descent (SGD):\n",
        "\n",
        "```text\n",
        "weight = weight - learning_rate * gradient\n",
        "```\n",
        "\n",
        "We can implement this using simple Python code:\n",
        "```Python\n",
        "learning_rate = 0.01\n",
        "for f in net.parameters():\n",
        "  f.data.sub_(f.grad.data * learning_rate)\n",
        "```\n",
        "\n",
        "However, as you use neural networks, you want to use various different update rules such as SGD, Nesterov-SGD, Adam, RMSProp, etc. To enable this, we built a small package: `torch.optim` that implements all these methods. Using it is very simple:"
      ],
      "metadata": {
        "id": "ol13ZeTgSMYE"
      }
    },
    {
      "cell_type": "code",
      "source": [
        "import torch.optim as optim\n",
        "\n",
        "# create your optimizer\n",
        "optimizer = optim.SGD(net.parameters(), lr=0.01)\n",
        "\n",
        "# in your training loop:\n",
        "optimizer.zero_grad() # zero the gradient buffers\n",
        "output = net(input)\n",
        "loss = criterion(output, target)\n",
        "loss.backward()\n",
        "optimizer.step() # Does the update"
      ],
      "metadata": {
        "id": "uwupyTkvNz-C"
      },
      "execution_count": 13,
      "outputs": []
    },
    {
      "cell_type": "markdown",
      "source": [
        "# Training a Classifier"
      ],
      "metadata": {
        "id": "ubGh31lXUvXx"
      }
    },
    {
      "cell_type": "code",
      "source": [],
      "metadata": {
        "id": "MCTyrTMHUxYA"
      },
      "execution_count": null,
      "outputs": []
    }
  ]
}