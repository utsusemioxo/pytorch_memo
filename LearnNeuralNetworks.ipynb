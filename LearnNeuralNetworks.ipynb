{
  "nbformat": 4,
  "nbformat_minor": 0,
  "metadata": {
    "colab": {
      "provenance": [],
      "authorship_tag": "ABX9TyPx3GQUgAeyrmI1Aozp9CXS"
    },
    "kernelspec": {
      "name": "python3",
      "display_name": "Python 3"
    },
    "language_info": {
      "name": "python"
    }
  },
  "cells": [
    {
      "cell_type": "markdown",
      "source": [
        "# Using `torch.nn` to construct neural networks"
      ],
      "metadata": {
        "id": "0bSvNvnnxk6K"
      }
    },
    {
      "cell_type": "markdown",
      "source": [
        "A Typical training procedure for a neural network is as follows:\n",
        "1. Define the neural network that has some learnable parameters(or weights)\n",
        "2. Iterate over a dataset of inputs\n",
        "3. Process input through the network\n",
        "4. Compute the loss (how far is the output from being correct)\n",
        "5. Propagate gradients back into the network's parameters\n",
        "6. Update the weights of the network, typically using a simple update rule: `weight = weight - learning_rate * gradient`"
      ],
      "metadata": {
        "id": "62debqrMw3We"
      }
    },
    {
      "cell_type": "markdown",
      "source": [
        "## Define the network"
      ],
      "metadata": {
        "id": "wAk3u9G8xxXM"
      }
    },
    {
      "cell_type": "code",
      "source": [
        "import torch\n",
        "import torch.nn as nn\n",
        "import torch.nn.functional as F\n",
        "\n",
        "class Net(nn.Module):\n",
        "\n",
        "  def __init__(self):\n",
        "    super(Net, self).__init__()\n",
        "    # 1 input image channel, 6 output channels, 5x5 square convolution\n",
        "    # kernel\n",
        "    self.conv1 = nn.Conv2d(1, 6, 5)\n",
        "    self.conv2 = nn.Conv2d(6, 16, 5)\n",
        "    # an affine operation: y = Wx + b\n",
        "    self.fc1 = nn.Linear(16 * 5 * 5, 120) # 5*5 from image dimension\n",
        "    self.fc2 = nn.Linear(120, 84)\n",
        "    self.fc3 = nn.Linear(84, 10)\n",
        "\n",
        "  def forward(self, input):\n",
        "    # Convolution layer C1: 1 input image channel, 6 output channels,\n",
        "    # 5x5 square convolution, it use RELU activation function, and\n",
        "    # outputs a Tensor with size (N, 6, 28, 28), where N is the size of the batch\n",
        "\n",
        "    c1 = F.relu(self.conv1(input))\n",
        "    # Subsampling layer S2: 2x2 grid, purely functional,\n",
        "    # this layer does not have any parameter, and outputs a (N, 6, 14, 14) Tensor\n",
        "    s2 = F.max_pool2d(c1, (2, 2))\n",
        "    # Convolution layer C3: 6 input channels, 16 output channels,\n",
        "    # 5x5 square convplution, it uses RELU activation function, and\n",
        "    # outputs a (N, 16, 10, 10) Tensor\n",
        "    c3 = F.relu(self.conv2(s2))\n",
        "    # Subsampleing layer S4: 2x2 grid, purely functional,\n",
        "    # this layer does not have any parameter, and outputs a (N, 16, 5, 5) Tensor\n",
        "    s4 = F.max_pool2d(c3, 2)\n",
        "    # Flatten operation: purely functional, outputs a (N, 400) Tensor\n",
        "    s4 = torch.flatten(s4, 1)\n",
        "    # Fully connected layer F5: (N, 400) Tensor input,\n",
        "    # and outputs a (N, 120) Tensor, it uses RELU activation function\n",
        "    f5 = F.relu(self.fc1(s4))\n",
        "    # Fully connected layer F6: (N, 120) Tensor input,\n",
        "    # and outputs a (N, 120) Tensor, it uses RELU activation function\n",
        "    f6 = F.relu(self.fc2(f5))\n",
        "    # Gaussian layer output: (N, 84) Tensor input, and\n",
        "    # outputs a (N, 10) Tensor\n",
        "    output = self.fc3(f6)\n",
        "    return output\n",
        "\n",
        "net = Net()\n",
        "print(net)"
      ],
      "metadata": {
        "colab": {
          "base_uri": "https://localhost:8080/"
        },
        "id": "ysnSf0Uuxhqb",
        "outputId": "3980cc3c-7f6b-4246-b4ff-a2e1e2d3fcb5"
      },
      "execution_count": 3,
      "outputs": [
        {
          "output_type": "stream",
          "name": "stdout",
          "text": [
            "Net(\n",
            "  (conv1): Conv2d(1, 6, kernel_size=(5, 5), stride=(1, 1))\n",
            "  (conv2): Conv2d(6, 16, kernel_size=(5, 5), stride=(1, 1))\n",
            "  (fc1): Linear(in_features=400, out_features=120, bias=True)\n",
            "  (fc2): Linear(in_features=120, out_features=84, bias=True)\n",
            "  (fc3): Linear(in_features=84, out_features=10, bias=True)\n",
            ")\n"
          ]
        }
      ]
    },
    {
      "cell_type": "code",
      "source": [
        "params = list(net.parameters())\n",
        "print(len(params))\n",
        "print(params[0].size()) # conv1's .weight"
      ],
      "metadata": {
        "colab": {
          "base_uri": "https://localhost:8080/"
        },
        "id": "rW8de3Bwx1CT",
        "outputId": "361fc212-c5f2-482d-ea0d-e2c40a3311a4"
      },
      "execution_count": 4,
      "outputs": [
        {
          "output_type": "stream",
          "name": "stdout",
          "text": [
            "10\n",
            "torch.Size([6, 1, 5, 5])\n"
          ]
        }
      ]
    },
    {
      "cell_type": "code",
      "source": [
        "input = torch.randn(1, 1, 32, 32)\n",
        "out = net(input)\n",
        "print(out)"
      ],
      "metadata": {
        "colab": {
          "base_uri": "https://localhost:8080/"
        },
        "id": "Xc6-7F2S2ZOO",
        "outputId": "7eaba362-7c50-415d-e5f8-6e6aa82a0d43"
      },
      "execution_count": 5,
      "outputs": [
        {
          "output_type": "stream",
          "name": "stdout",
          "text": [
            "tensor([[-0.1475, -0.0576,  0.0431, -0.0798, -0.0567,  0.0784, -0.0793, -0.0639,\n",
            "          0.0687, -0.1004]], grad_fn=<AddmmBackward0>)\n"
          ]
        }
      ]
    },
    {
      "cell_type": "code",
      "source": [
        "net.zero_grad()\n",
        "out.backward(torch.randn(1, 10))"
      ],
      "metadata": {
        "id": "m12GsWgA2gSy"
      },
      "execution_count": 6,
      "outputs": []
    },
    {
      "cell_type": "code",
      "source": [],
      "metadata": {
        "id": "h8fsloxJ24MH"
      },
      "execution_count": null,
      "outputs": []
    }
  ]
}